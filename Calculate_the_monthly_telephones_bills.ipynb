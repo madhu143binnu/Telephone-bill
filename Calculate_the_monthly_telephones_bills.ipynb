{
  "nbformat": 4,
  "nbformat_minor": 0,
  "metadata": {
    "colab": {
      "provenance": [],
      "authorship_tag": "ABX9TyPAGf0SulMowS3ADXTaoSUB",
      "include_colab_link": true
    },
    "kernelspec": {
      "name": "python3",
      "display_name": "Python 3"
    },
    "language_info": {
      "name": "python"
    }
  },
  "cells": [
    {
      "cell_type": "markdown",
      "metadata": {
        "id": "view-in-github",
        "colab_type": "text"
      },
      "source": [
        "<a href=\"https://colab.research.google.com/github/madhu143binnu/Telephone-bill/blob/main/Calculate_the_monthly_telephones_bills.ipynb\" target=\"_parent\"><img src=\"https://colab.research.google.com/assets/colab-badge.svg\" alt=\"Open In Colab\"/></a>"
      ]
    },
    {
      "cell_type": "markdown",
      "source": [
        "Python Assignment -2\n",
        "\n",
        "Write a program that prompts the user to input number of calls and calculate the monthly telephone bills as per the following rule:\n",
        "\n",
        "\n",
        "\n",
        "● Minimum Rs. 200 for up to 100 calls.\n",
        "\n",
        "● Plus Rs. 0.60 per call for next 50 calls.\n",
        "\n",
        "● Plus Rs. 0.50 per call for next 50 calls.\n",
        "\n",
        "● Plus Rs. 0.40 per call for any call beyond 200 calls."
      ],
      "metadata": {
        "id": "yZXfgkne_xVo"
      }
    },
    {
      "cell_type": "code",
      "execution_count": null,
      "metadata": {
        "colab": {
          "base_uri": "https://localhost:8080/"
        },
        "id": "Nno6ZlW9_wm8",
        "outputId": "5071dd6e-496c-431d-d4b0-2b5c5c023620"
      },
      "outputs": [
        {
          "output_type": "stream",
          "name": "stdout",
          "text": [
            "Enter number of calls:200\n",
            "Total bill amount is  255.0\n"
          ]
        }
      ],
      "source": [
        "calls = int(input(\"Enter number of calls:\"))\n",
        "if calls <= 100:\n",
        "  bill = 200\n",
        "elif calls > 100 and calls <= 150:\n",
        "  calls = calls -100\n",
        "  bill = 200 + (0.60 * calls )\n",
        "elif calls > 150 and calls <= 200:\n",
        "  calls = calls -150\n",
        "  bill = 200 + ( 0.60 * 50 ) + ( 0.50 * calls )\n",
        "else:\n",
        "  calls = calls -200\n",
        "  bills = 200 + (0.60 * 50 ) + (0.50 * 50 ) + (0.40 * calls)\n",
        "print (\"Total bill amount is \",bill)\n",
        "\n"
      ]
    }
  ]
}